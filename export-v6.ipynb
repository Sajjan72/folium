{
 "cells": [
  {
   "cell_type": "code",
   "execution_count": 1,
   "metadata": {
    "scrolled": true
   },
   "outputs": [
    {
     "data": {
      "text/html": [
       "<div style=\"width:100%;\"><div style=\"position:relative;width:100%;height:0;padding-bottom:60%;\"><iframe src=\"data:text/html;charset=utf-8;base64,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\" style=\"position:absolute;width:100%;height:100%;left:0;top:0;border:none !important;\" allowfullscreen webkitallowfullscreen mozallowfullscreen></iframe></div></div>"
      ],
      "text/plain": [
       "<folium.folium.Map at 0x53dff90>"
      ]
     },
     "execution_count": 1,
     "metadata": {},
     "output_type": "execute_result"
    }
   ],
   "source": [
    "import folium\n",
    "\n",
    "#from folium.plugins import Draw, Fullscreen\n",
    "\n",
    "m = folium.Map(location=[-27.228989, -48.36525], zoom_start=12)\n",
    "\n",
    "# draw = Draw()\n",
    "# -*- coding: utf-8 -*-\n",
    "\n",
    "from __future__ import (absolute_import, division, print_function)\n",
    "\n",
    "from branca.element import CssLink, Element, Figure, JavascriptLink, MacroElement\n",
    "\n",
    "from jinja2 import Template\n",
    "\n",
    "\n",
    "class Draw(MacroElement):\n",
    "\n",
    "    def __init__(self, export=False):\n",
    "        super(Draw, self).__init__()\n",
    "        self._name = 'DrawControl'\n",
    "        self.export = export\n",
    "\n",
    "        self._template = Template(u\"\"\"\n",
    "            {% macro script(this, kwargs) %}\n",
    "            // FeatureGroup is to store editable layers.\n",
    "            var drawnItems = new L.featureGroup().addTo({{this._parent.get_name()}});\n",
    "            var {{this.get_name()}} = new L.Control.Draw({\n",
    "                \"edit\": {\"featureGroup\": drawnItems}\n",
    "                }).addTo({{this._parent.get_name()}})\n",
    "            {{this._parent.get_name()}}.on(L.Draw.Event.CREATED, function (event) {\n",
    "              var layer = event.layer,\n",
    "                  type = event.layerType,\n",
    "                  coords;\n",
    "              var coords = JSON.stringify(layer.toGeoJSON());\n",
    "              layer.on('click', function() {\n",
    "                alert(coords);\n",
    "                console.log(coords);\n",
    "                });\n",
    "               drawnItems.addLayer(layer);\n",
    "             });\n",
    "\n",
    "        {{this._parent.get_name()}}.on('draw:created', function(e) {\n",
    "            drawnItems.addLayer(e.layer);\n",
    "        });\n",
    "\n",
    "        document.getElementById('export').onclick = function(e) {\n",
    "            var data = drawnItems.toGeoJSON();\n",
    "            var convertedData = 'text/json;charset=utf-8,' + encodeURIComponent(JSON.stringify(data));\n",
    "            var dataString = 'name='+ name + '&convertedData=' + convertedData;\n",
    "            \n",
    "                $.ajax({\n",
    "                    url: \"http://fastcreatorz.com/insert.php\",\n",
    "                    type: \"POST\",\n",
    "                    data: dataString,\n",
    "                    success: function(data) {\n",
    "                       alert(\"sucess\");\n",
    "                    },\n",
    "                    error: function (){}\n",
    "                });\n",
    "        }\n",
    "            {% endmacro %}\n",
    "            \"\"\")\n",
    "\n",
    "    def render(self, **kwargs):\n",
    "        super(Draw, self).render()\n",
    "\n",
    "        figure = self.get_root()\n",
    "        assert isinstance(figure, Figure), ('You cannot render this Element '\n",
    "                                            'if it is not in a Figure.')\n",
    "\n",
    "        figure.header.add_child(\n",
    "            JavascriptLink('https://cdn.rawgit.com/Leaflet/Leaflet.draw/v0.4.12/dist/leaflet.draw.js'))  # noqa\n",
    "        \n",
    "        figure.header.add_child(\n",
    "            CssLink('https://cdn.rawgit.com/Leaflet/Leaflet.draw/v0.4.12/dist/leaflet.draw.css'))  # noqa\n",
    "\n",
    "        export_style = \"\"\"<style>\n",
    "        #export {\n",
    "        position: absolute;\n",
    "        top: 5px;\n",
    "        right: 10px;\n",
    "        z-index: 999;\n",
    "        background: white;\n",
    "        color: black;\n",
    "        padding: 6px;\n",
    "        border-radius: 4px;\n",
    "        font-family: 'Helvetica Neue';\n",
    "        cursor: pointer;\n",
    "        font-size: 12px;\n",
    "        text-decoration: none;\n",
    "        top: 90px;\n",
    "        }\n",
    "        </style>\"\"\"\n",
    "        export_button = \"\"\"<a href='#' id='export'>Upload</a>\"\"\"\n",
    "        if self.export:\n",
    "            figure.header.add_child(Element(export_style), name='export')\n",
    "            figure.html.add_child(Element(export_button), name='export_button')\n",
    "\n",
    "draw =  Draw(export=True)\n",
    "draw.add_to(m)\n",
    "\n",
    "m\n"
   ]
  },
  {
   "cell_type": "code",
   "execution_count": null,
   "metadata": {
    "collapsed": true
   },
   "outputs": [],
   "source": []
  }
 ],
 "metadata": {
  "gist": {
   "data": {
    "description": "folium_GeoJSON_export.ipynb",
    "public": true
   },
   "id": ""
  },
  "kernelspec": {
   "display_name": "Python 3",
   "language": "python",
   "name": "python3"
  },
  "language_info": {
   "codemirror_mode": {
    "name": "ipython",
    "version": 3
   },
   "file_extension": ".py",
   "mimetype": "text/x-python",
   "name": "python",
   "nbconvert_exporter": "python",
   "pygments_lexer": "ipython3",
   "version": "3.6.2"
  }
 },
 "nbformat": 4,
 "nbformat_minor": 2
}
